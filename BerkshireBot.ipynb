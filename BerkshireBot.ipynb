{
 "cells": [
  {
   "cell_type": "markdown",
   "metadata": {},
   "source": [
    "# AI-Powered \"Warren Buffett\" Investment Advisor RAG System"
   ]
  },
  {
   "cell_type": "markdown",
   "metadata": {},
   "source": [
    "Many investors admire Warren Buffett’s investment philosophy but lack the expertise to analyze stocks the way he does. This AI-powered RAG system retrieves historical Buffett investment decisions, Berkshire Hathaway shareholder letters, and company financials to provide Buffett-style insights on modern stocks. This allows us to more closely emulate and learn Buffett's signature \"value investment\" style."
   ]
  },
  {
   "cell_type": "code",
   "execution_count": 1,
   "metadata": {},
   "outputs": [
    {
     "name": "stderr",
     "output_type": "stream",
     "text": [
      "c:\\Users\\65981\\OneDrive\\Documents\\GitHub\\BuffettAI\\.venv\\lib\\site-packages\\tqdm\\auto.py:21: TqdmWarning: IProgress not found. Please update jupyter and ipywidgets. See https://ipywidgets.readthedocs.io/en/stable/user_install.html\n",
      "  from .autonotebook import tqdm as notebook_tqdm\n"
     ]
    }
   ],
   "source": [
    "import pdfplumber\n",
    "import re\n",
    "import spacy\n",
    "from sentence_transformers import SentenceTransformer\n",
    "import pickle\n",
    "import numpy as np\n",
    "import faiss\n",
    "import openai"
   ]
  },
  {
   "cell_type": "markdown",
   "metadata": {},
   "source": [
    "## Text Preprocessing"
   ]
  },
  {
   "cell_type": "markdown",
   "metadata": {},
   "source": [
    "Data Source: https://www.berkshirehathaway.com/letters/letters.html\n",
    "\n",
    "One setback is that the shareholder's letters are all in PDF format, not markdown, making the text poorly structured. Some pre-defined rules have been created to clean the text, however it is not perfect. Additionally, tables could not be read and extracted properly."
   ]
  },
  {
   "cell_type": "code",
   "execution_count": null,
   "metadata": {},
   "outputs": [
    {
     "name": "stdout",
     "output_type": "stream",
     "text": [
      "Clean text test: This is the first section  cashflow Is Important but Berkshire Hathaway's strategy Is Unique.   Next page starts here.\n"
     ]
    }
   ],
   "source": [
    "def extract_text_and_tables(pdf_path):\n",
    "    full_text = \"\"\n",
    "    tables_data = []\n",
    "\n",
    "    with pdfplumber.open(pdf_path) as pdf:\n",
    "        for page in pdf.pages:\n",
    "            # Extract text\n",
    "            page_text = page.extract_text()\n",
    "            if page_text:\n",
    "                full_text += page_text + \"\\n\\n\"\n",
    "            # Extract tables (doesn't actually work as tables are not well formatted)\n",
    "            tables = page.extract_tables()\n",
    "            for table in tables:\n",
    "                if table:\n",
    "                    tables_data.append(table)\n",
    "\n",
    "    return full_text, tables_data\n",
    "\n",
    "\n",
    "\n",
    "def clean_text(text):\n",
    "    # Initialize list to store cleaned lines\n",
    "    cleaned_lines = []\n",
    "    # Split text into lines\n",
    "    lines = text.split(\"\\n\")\n",
    "\n",
    "    # Iterate over lines\n",
    "    for line in lines:\n",
    "        # Remove page numbers (if the line is just a number)\n",
    "        if re.fullmatch(r\"\\d+\", line):  \n",
    "            continue  \n",
    "        # Replace page breaks (\\f often represents a new page in PDFs)\n",
    "        line = line.replace(\"\\f\", \" \")\n",
    "        # Remove section dividers (e.g., * * * * * * * *)\n",
    "        line = re.sub(r'(\\* *\\*){3,}', ' ', line)\n",
    "        # Remove section dividers (e.g., ---------------)\n",
    "        line = re.sub(r'(\\-){3,}', ' ', line) \n",
    "        # Remove section dividers (e.g., ===============)\n",
    "        line = re.sub(r'(\\=){3,}', ' ', line) \n",
    "        # Remove long sequences of dots (e.g., ...................................)\n",
    "        line = re.sub(r'\\.{5,}', ' ', line)\n",
    "        # Append cleaned line if not empty\n",
    "        if line:\n",
    "            cleaned_lines.append(line)\n",
    "    \n",
    "    # Join lines, ensuring sentences are reconstructed properly\n",
    "    cleaned_text = \" \".join(cleaned_lines)\n",
    "    # Fix spaces before punctuation (caused by broken lines)\n",
    "    cleaned_text = re.sub(r'\\s+([.,!?;])', r'\\1', cleaned_text)\n",
    "    # Fix missing spaces in camelCase-like words\n",
    "    cleaned_text = re.sub(r'([a-z])([A-Z])', r'\\1 \\2', cleaned_text)\n",
    "    # Trim whitespace\n",
    "    cleaned_text = cleaned_text.strip()\n",
    "\n",
    "    return cleaned_text\n",
    "\n",
    "# Test the function\n",
    "print(\"Clean text test:\", clean_text(\n",
    "\"\"\"\n",
    "************\n",
    "This is the first section..........................................................................\n",
    "12\n",
    "cashflowIsImportant butBerkshireHathaway's strategyIsUnique.\n",
    "\\f\n",
    "Next page starts here.\n",
    "\"\"\"))\n",
    "\n",
    "# Preprocess all shareholder letters\n",
    "for i in range(1977, 2025):\n",
    "    print(f\"Processing {i}...\")\n",
    "    text, tables = extract_text_and_tables(f\"./data/BRK.A Chairman Letters/Chairman's Letter - {i}.pdf\")\n",
    "    processed_text = clean_text(text)\n",
    "    with open(f\"./data/BRK.A Chairman Letters/Chairman's Letter - {i}.txt\", \"w\", encoding='utf-8') as f:\n",
    "        f.write(processed_text)\n",
    "\n",
    "shareholder_text = {}\n",
    "for i in range(1977, 2025):\n",
    "    with open(f\"./data/BRK.A Chairman Letters/Chairman's Letter - {i}.txt\", \"r\", encoding='utf-8') as f:\n",
    "        shareholder_text[i] = f.read()\n"
   ]
  },
  {
   "cell_type": "markdown",
   "metadata": {},
   "source": [
    "## Chunking"
   ]
  },
  {
   "cell_type": "markdown",
   "metadata": {},
   "source": [
    "Chunking is done at a sentence level with sliding window using spaCy. 15 sentences form 1 chunk with an overlap of 5 sentences ensuring that each chunk has a reasonable amount of context from the previous chunk, without being excessively redundant.\n",
    "\n",
    "Ideally, chunking would be done on a section or paragraph level. However,\n",
    "1. The format of the letter changes over time and the section headers may not be consistent. E.g., 1977 - \"Insurance Investments\", 1981 - \"General Acquisition Behavior\"\n",
    "2. Due to the PDF format of the letters, pdfplumber is unable to detect paragraph breaks.\n",
    "\n",
    "Metadata for the year is also added."
   ]
  },
  {
   "cell_type": "code",
   "execution_count": null,
   "metadata": {},
   "outputs": [
    {
     "data": {
      "text/plain": [
       "[{'text': 'BERKSHIRE HATHAWAY INC. To the Stockholders of Berkshire Hathaway Inc.: Operating earnings in 1977 of $21,904,000, or $22.54 per share, were moderately better than anticipated a year ago. Of these earnings, $1.43 per share resulted from substantial realized capital gains by Blue Chip Stamps which, to the extent of our proportional interest in that company, are included in our operating earnings figure. Capital gains or losses realized directly by Berkshire Hathaway Inc. or its insurance subsidiaries are not included in our calculation of operating earnings. While too much attention should not be paid to the figure for any single year, over the longer term the record regarding aggregate capital gains or losses obviously is of significance. Textile operations came in well below forecast, while the results of the Illinois National Bank as well as the operating earnings attributable to our equity interest in Blue Chip Stamps were about as anticipated. However, insurance operations, led again by the truly outstanding results of Phil Liesche’s managerial group at National Indemnity Company, were even better than our optimistic expectations. Most companies define “record” earnings as a new high in earnings per share. Since businesses customarily add from year to year to their equity base, we find nothing particularly noteworthy in a management performance combining, say, a 10% increase in equity capital and a 5% increase in earnings per share. After all, even a totally dormant savings account will produce steadily rising interest earnings each year because of compounding. Except for special cases (for example, companies with unusual debt-equity ratios or those with important assets carried at unrealistic balance sheet values), we believe a more appropriate measure of managerial economic performance to be return on equity capital. In 1977 our operating earnings on beginning equity capital amounted to 19%, slightly better than last year and above both our own long-term average and that of American industry in aggregate. But, while our operating earnings per share were up 37% from the year before, our beginning capital was up 24%, making the gain in earnings per share considerably less impressive than it might appear at first glance. We expect difficulty in matching our 1977 rate of return during the forthcoming year.',\n",
       "  'year': 1977},\n",
       " {'text': 'After all, even a totally dormant savings account will produce steadily rising interest earnings each year because of compounding. Except for special cases (for example, companies with unusual debt-equity ratios or those with important assets carried at unrealistic balance sheet values), we believe a more appropriate measure of managerial economic performance to be return on equity capital. In 1977 our operating earnings on beginning equity capital amounted to 19%, slightly better than last year and above both our own long-term average and that of American industry in aggregate. But, while our operating earnings per share were up 37% from the year before, our beginning capital was up 24%, making the gain in earnings per share considerably less impressive than it might appear at first glance. We expect difficulty in matching our 1977 rate of return during the forthcoming year. Beginning equity capital is up 23% from a year ago, and we expect the trend of insurance underwriting profit margins to turn down well before the end of the year. Nevertheless, we expect a reasonably good year and our present estimate, subject to the usual caveats regarding the frailties of forecasts, is that operating earnings will improve somewhat on a per share basis during 1978. Textile Operations The textile business again had a very poor year in 1977. We have mistakenly predicted better results in each of the last two years. This may say something about our forecasting abilities, the nature of the textile industry, or both. Despite strenuous efforts, problems in marketing and manufacturing have persisted. Many difficulties experienced in the marketing area are due primarily to industry conditions, but some of the problems have been of our own making. A few shareholders have questioned the wisdom of remaining in the textile business which, over the longer term, is unlikely to produce returns on capital comparable to those available in many other businesses. Our reasons are several: (1) Our mills in both New Bedford and Manchester are among the largest employers in each town, utilizing a labor force of high average age possessing relatively non-transferable skills.',\n",
       "  'year': 1977},\n",
       " {'text': 'This may say something about our forecasting abilities, the nature of the textile industry, or both. Despite strenuous efforts, problems in marketing and manufacturing have persisted. Many difficulties experienced in the marketing area are due primarily to industry conditions, but some of the problems have been of our own making. A few shareholders have questioned the wisdom of remaining in the textile business which, over the longer term, is unlikely to produce returns on capital comparable to those available in many other businesses. Our reasons are several: (1) Our mills in both New Bedford and Manchester are among the largest employers in each town, utilizing a labor force of high average age possessing relatively non-transferable skills. Our workers and unions have exhibited unusual understanding and effort in cooperating with management to achieve a cost structure and product mix which might allow us to maintain a viable operation. (2) Management also has been energetic and straightforward in its approach to our textile problems. In particular, Ken Chace’s efforts after the change in corporate control took place in 1965 generated capital from the textile division needed to finance the acquisition and expansion of our profitable insurance operation. (3) With hard work and some imagination regarding manufacturing and marketing configurations, it seems reasonable that at least modest profits in the textile division can be achieved in the future. Insurance Underwriting Our insurance operation continued to grow significantly in 1977. It was early in 1967 that we made our entry into this industry through the purchase of National Indemnity Company and National Fire and Marine Insurance Company (sister companies) for approximately $8.6 million. In that year their premium volume amounted to $22 million. In 1977 our aggregate insurance premium volume was $151 million. No additional shares of Berkshire Hathaway stock have been issued to achieve any of this growth. Rather, this almost 600% increase has been achieved through large gains in National Indemnity’s traditional liability areas plus the starting of new companies (Cornhusker Casualty Company in 1970, Lakeland Fire and Casualty Company in 1971, Texas United Insurance Company in 1972, The Insurance Company of Iowa in 1973, and Kansas Fire and Casualty Company in late 1977), the purchase for cash of other insurance companies (Home and Automobile Insurance Company in 1971, Kerkling Reinsurance Corporation, now named Central Fire and Casualty Company, in 1976, and Cypress Insurance Company at yearend 1977), and finally through the marketing of additional products, most significantly reinsurance, within the National Indemnity Company corporate structure.',\n",
       "  'year': 1977},\n",
       " {'text': 'It was early in 1967 that we made our entry into this industry through the purchase of National Indemnity Company and National Fire and Marine Insurance Company (sister companies) for approximately $8.6 million. In that year their premium volume amounted to $22 million. In 1977 our aggregate insurance premium volume was $151 million. No additional shares of Berkshire Hathaway stock have been issued to achieve any of this growth. Rather, this almost 600% increase has been achieved through large gains in National Indemnity’s traditional liability areas plus the starting of new companies (Cornhusker Casualty Company in 1970, Lakeland Fire and Casualty Company in 1971, Texas United Insurance Company in 1972, The Insurance Company of Iowa in 1973, and Kansas Fire and Casualty Company in late 1977), the purchase for cash of other insurance companies (Home and Automobile Insurance Company in 1971, Kerkling Reinsurance Corporation, now named Central Fire and Casualty Company, in 1976, and Cypress Insurance Company at yearend 1977), and finally through the marketing of additional products, most significantly reinsurance, within the National Indemnity Company corporate structure. In aggregate, the insurance business has worked out very well. But it hasn’t been a one-way street. Some major mistakes have been made during the decade, both in products and personnel. We experienced significant problems from (1) a surety operation initiated in 1969, (2) the 1973 expansion of Home and Automobile’s urban auto marketing into the Miami, Florida area, (3) a still unresolved aviation “fronting” arrangement, and (4) our Worker’s Compensation operation in California, which we believe retains an interesting potential upon completion of a reorganization now in progress. It is comforting to be in a business where some mistakes can be made and yet a quite satisfactory overall performance can be achieved. In a sense, this is the opposite case from our textile business where even very good management probably can average only modest results. One of the lessons your management has learned - and, unfortunately, sometimes re-learned - is the importance of being in businesses where tailwinds prevail rather than headwinds. In 1977 the winds in insurance underwriting were squarely behind us. Very large rate increases were effected throughout the industry in 1976 to offset the disastrous underwriting results of 1974 and 1975. But, because insurance policies typically are written for one-year periods, with pricing mistakes capable of correction only upon renewal, it was 1977 before the full impact was felt upon earnings of those earlier rate increases.',\n",
       "  'year': 1977},\n",
       " {'text': 'In a sense, this is the opposite case from our textile business where even very good management probably can average only modest results. One of the lessons your management has learned - and, unfortunately, sometimes re-learned - is the importance of being in businesses where tailwinds prevail rather than headwinds. In 1977 the winds in insurance underwriting were squarely behind us. Very large rate increases were effected throughout the industry in 1976 to offset the disastrous underwriting results of 1974 and 1975. But, because insurance policies typically are written for one-year periods, with pricing mistakes capable of correction only upon renewal, it was 1977 before the full impact was felt upon earnings of those earlier rate increases. The pendulum now is beginning to swing the other way. We estimate that costs involved in the insurance areas in which we operate rise at close to 1% per month. This is due to continuous monetary inflation affecting the cost of repairing humans and property, as well as “social inflation”, a broadening definition by society and juries of what is covered by insurance policies. Unless rates rise at a comparable 1% per month, underwriting profits must shrink. Recently the pace of rate increases has slowed dramatically, and it is our expectation that underwriting margins generally will be declining by the second half of the year. We must again give credit to Phil Liesche, greatly assisted by Roland Miller in Underwriting and Bill Lyons in Claims, for an extraordinary underwriting achievement in National Indemnity’s traditional auto and general liability business during 1977. Large volume gains have been accompanied by excellent underwriting margins following contraction or withdrawal by many competitors in the wake of the 1974-75 crisis period. These conditions will reverse before long. In the meantime, National Indemnity’s underwriting profitability has increased dramatically and, in addition, large sums have been made available for investment. As markets loosen and rates become inadequate, we again will face the challenge of philosophically accepting reduced volume.',\n",
       "  'year': 1977}]"
      ]
     },
     "execution_count": 57,
     "metadata": {},
     "output_type": "execute_result"
    }
   ],
   "source": [
    "# Load spaCy's English model\n",
    "nlp = spacy.load(\"en_core_web_sm\")\n",
    "\n",
    "# Define the chunk size and overlap size\n",
    "chunk_size = 15  # 15 sentences per chunk\n",
    "overlap_size = 5  # 5 sentences overlap between chunks\n",
    "\n",
    "# Function to create chunks with sliding window\n",
    "def sliding_window_chunking(text, chunk_size, overlap_size, year_metadata):\n",
    "    # Process the text with spaCy\n",
    "    doc = nlp(text)\n",
    "    \n",
    "    # Create a list of sentences\n",
    "    sentences = list(doc.sents)\n",
    "    \n",
    "    # Create chunks with sliding window\n",
    "    chunks = []\n",
    "    for i in range(0, len(sentences) - chunk_size + 1, chunk_size - overlap_size):\n",
    "        chunk = sentences[i:i+chunk_size]\n",
    "        chunk_text = \" \".join([sent.text for sent in chunk])\n",
    "        chunks.append({\"text\": chunk_text, \"year\": year_metadata})\n",
    "    \n",
    "    return chunks\n",
    "\n",
    "# Process the shareholder letters and create chunks for each year\n",
    "chunks_with_metadata = []\n",
    "\n",
    "for year, letter_text in shareholder_text.items():\n",
    "    # Generate chunks for each shareholder letter with year metadata\n",
    "    chunks = sliding_window_chunking(letter_text, chunk_size, overlap_size, year)\n",
    "    chunks_with_metadata.extend(chunks)\n",
    "\n",
    "# Save the chunks to a file\n",
    "with open(\"chunks_with_metadata.pkl\", \"wb\") as f:\n",
    "    pickle.dump(chunks_with_metadata, f)\n",
    "\n",
    "# Display the first 5 chunks\n",
    "chunks_with_metadata[:5]"
   ]
  },
  {
   "cell_type": "markdown",
   "metadata": {},
   "source": [
    "## Generate Embeddings"
   ]
  },
  {
   "cell_type": "markdown",
   "metadata": {},
   "source": [
    "Embedding Model: bge-large-en\n",
    "\n",
    "1. Large transformer architecture, more accurate than smaller models such as all-miniLM-L6-V2.\n",
    "2. High dimensional embeddings (1024-dimensional) captures rich semantic information especially for financial text.\n",
    "3. Works well with long form data such as shareholder letters."
   ]
  },
  {
   "cell_type": "code",
   "execution_count": null,
   "metadata": {},
   "outputs": [],
   "source": [
    "# Load the SentenceTransformer model\n",
    "model = SentenceTransformer(\"BAAI/bge-large-en\")\n",
    "\n",
    "# Read the chunks with metadata\n",
    "with open(\"chunks_with_metadata.pkl\", \"rb\") as f:\n",
    "    chunks_with_metadata = pickle.load(f)\n",
    "\n",
    "# Function to generate embeddings for the text\n",
    "def generate_embeddings(data):\n",
    "    embeddings = []\n",
    "    \n",
    "    for entry in data:\n",
    "        text = entry['text']\n",
    "        year = entry['year']\n",
    "        \n",
    "        # Generate embedding for the text\n",
    "        embedding = model.encode(text)  # This returns a vector of fixed size\n",
    "        embeddings.append({'year': year, 'embedding': embedding})\n",
    "        \n",
    "    return embeddings\n",
    "\n",
    "# Generate embeddings for all the letters\n",
    "embeddings_data = generate_embeddings(chunks_with_metadata)\n",
    "\n",
    "# Optionally, save the embeddings using pickle\n",
    "with open('embeddings.pkl', 'wb') as f:\n",
    "    pickle.dump(embeddings_data, f)  # Save the embeddings with metadata (e.g., year)"
   ]
  },
  {
   "cell_type": "markdown",
   "metadata": {},
   "source": [
    "## Load Embeddings on FAISS"
   ]
  },
  {
   "cell_type": "code",
   "execution_count": 34,
   "metadata": {},
   "outputs": [
    {
     "name": "stdout",
     "output_type": "stream",
     "text": [
      "Embeddings loaded: 2656\n",
      "FAISS index saved successfully!\n"
     ]
    }
   ],
   "source": [
    "# Load the embeddings\n",
    "with open(\"embeddings.pkl\", \"rb\") as f:\n",
    "    loaded_embeddings = pickle.load(f)\n",
    "print(\"Embeddings loaded:\", len(loaded_embeddings))\n",
    "\n",
    "# Extract embeddings and metadata\n",
    "embeddings = np.array([item[\"embedding\"] for item in loaded_embeddings]).astype(\"float32\")\n",
    "years = [item[\"year\"] for item in loaded_embeddings]  # Store metadata separately\n",
    "\n",
    "# Create a FAISS index (L2 similarity)\n",
    "dimension = embeddings.shape[1]  # 1024 for BGE\n",
    "index = faiss.IndexFlatL2(dimension)\n",
    "index.add(embeddings)  # Add all embeddings to FAISS\n",
    "\n",
    "# Save FAISS index\n",
    "faiss.write_index(index, \"buffett_faiss.index\")\n",
    "print(\"FAISS index saved successfully!\")"
   ]
  },
  {
   "cell_type": "markdown",
   "metadata": {},
   "source": [
    "## RAG"
   ]
  },
  {
   "cell_type": "code",
   "execution_count": null,
   "metadata": {},
   "outputs": [],
   "source": [
    "# Function to query the FAISS index\n",
    "def query_faiss_index(query, k=10):\n",
    "    # Convert query to embedding\n",
    "    query_embedding = model.encode([query]).astype('float32')\n",
    "    \n",
    "    # Search the FAISS index for the k nearest neighbors\n",
    "    distances, indices = index.search(query_embedding, k)\n",
    "    \n",
    "    # Retrieve the metadata (years) and relevant sentence chunks based on the indices\n",
    "    retrieved_metadata = [years[i] for i in indices[0]]\n",
    "    retrieved_chunks = [sentence_chunks[i] for i in indices[0]]  # Retrieve the actual document chunks\n",
    "    \n",
    "    return retrieved_metadata, retrieved_chunks, distances[0]\n",
    "\n",
    "\n",
    "\n",
    "# Function to generate the prompt dynamically for chunked sentences\n",
    "def generate_llm_prompt(retrieved_metadata, retrieved_chunks, distances, query):\n",
    "    # Start with the query\n",
    "    prompt = f\"Pretend that you are Warren Buffett and answer in first person. Given the following document chunks from Berkshire Hathaway's annual letters, answer the query:\\n\\nQuery: {query}\\n\\n\"\n",
    "    \n",
    "    # Add an introductory explanation\n",
    "    prompt += \"The following document chunks are relevant to the query. Use them to answer the question based on Warren Buffett's investment strategies:\\n\\n\"\n",
    "    \n",
    "    # Process the retrieved data and add chunk sentences to the prompt with relevance scores\n",
    "    for i in range(len(retrieved_metadata)):\n",
    "        year = retrieved_metadata[i]\n",
    "        relevant_chunk = retrieved_chunks[i]  # This would be the chunk from the document\n",
    "        score = distances[i]  # The similarity score for the chunk\n",
    "        \n",
    "        # Add the chunk to the prompt with inline citation and relevance score\n",
    "        prompt += f\"Year: {year} (Score: {score:.4f})\\n\"\n",
    "        prompt += f\"Relevant Document Chunk: {relevant_chunk}\\n\\n\"\n",
    "    \n",
    "    # Ask the model to reason about its answer\n",
    "    prompt += \"Based on the provided document chunks, please explain how Warren Buffett's investment strategies relate to the query, and reason through step by step each part of the answer. Include any insights from the document chunks that support your response.\"\n",
    "\n",
    "    prompt += \"Include inlined citations for each part of the answer to show the source of your reasoning in the form of quotes and (year). Additionally, include a disclaimer than you are just an AI and not actually Warren Buffett and that this should not be taken as investment advice.\"\n",
    "    \n",
    "    return prompt\n",
    "\n",
    "\n",
    "\n",
    "# Full function for querying the system\n",
    "def query_berkshire_bot(query, k=10):\n",
    "    # Step 1: Query FAISS index\n",
    "    retrieved_metadata, retrieved_chunks, distances = query_faiss_index(query, k)\n",
    "    \n",
    "    # Step 2: Craft the prompt for the LLM\n",
    "    llm_prompt = generate_llm_prompt(retrieved_metadata, retrieved_chunks, distances, query)\n",
    "    # print(llm_prompt)\n",
    "    \n",
    "    # Step 3: Send the prompt to the LLM\n",
    "    response = client.chat.completions.create(\n",
    "        model=\"gpt-3.5-turbo\",\n",
    "        messages=[{\"role\": \"user\", \"content\": llm_prompt}]\n",
    "    )\n",
    "    response = response.model_dump()\n",
    "\n",
    "    base_response = client.chat.completions.create(\n",
    "        model=\"gpt-3.5-turbo\",\n",
    "        messages=[{\"role\": \"user\", \"content\": query}]\n",
    "    )\n",
    "    base_response = base_response.model_dump()\n",
    "\n",
    "    return response[\"choices\"][0][\"message\"][\"content\"], base_response[\"choices\"][0][\"message\"][\"content\"]\n",
    "\n",
    "\n",
    "# Load the SentenceTransformer model, FAISS index, OpenAI API\n",
    "model = SentenceTransformer(\"BAAI/bge-large-en\")\n",
    "index = faiss.read_index(\"buffett_faiss.index\")\n",
    "client = openai.OpenAI(api_key=\"OPENAI_API_KEY\")\n",
    "\n",
    "# Load and extract the embeddings and chunks with metadata\n",
    "loaded_embeddings = pickle.load(open(\"embeddings.pkl\", \"rb\"))\n",
    "embeddings = np.array([item[\"embedding\"] for item in loaded_embeddings]).astype(\"float32\")\n",
    "years = [item[\"year\"] for item in loaded_embeddings]  # Store metadata separately\n",
    "\n",
    "# Load the text chunks\n",
    "chunks_with_metadata = pickle.load(open(\"chunks_with_metadata.pkl\", \"rb\"))\n",
    "sentence_chunks = [item[\"text\"] for item in chunks_with_metadata]"
   ]
  },
  {
   "cell_type": "markdown",
   "metadata": {},
   "source": [
    "On testing, I find that the RAG system is pulling chunks from the wrong years. E.g., the query is asking for 2005, the retrieval finds chunks from 1992. This is because the retrieval does not account for the metadata, only focusing on finding semantically similar chunks. The metadata is only added as context for prompt injection after retrieval.\n",
    "\n",
    "I considered using re-ranking techniques. However, it is not guaranteed that out of the top k chunks, the retriever even finds chunks from the correct years.\n",
    "\n",
    "I decided to implement a pre-retrieval filter to more strictly follow the specified years in the query.\n",
    "\n",
    "This involves filtering the embeddings and chunks then creating a new FAISS index for each query. A concern might be that this may be inefficient on a larger scale. On local testing, it seems to perform decently taking <1s to create a new FAISS index."
   ]
  },
  {
   "cell_type": "markdown",
   "metadata": {},
   "source": [
    "## Testing the system"
   ]
  },
  {
   "cell_type": "markdown",
   "metadata": {},
   "source": [
    "### How has Buffett’s investment philosophy evolved over the years?"
   ]
  },
  {
   "cell_type": "code",
   "execution_count": 27,
   "metadata": {},
   "outputs": [
    {
     "name": "stdout",
     "output_type": "stream",
     "text": [
      "\n",
      "Query: How has your investment philosophy evolved over the years?\n",
      "\n",
      "LLM Response: As Warren Buffett, my investment philosophy has evolved over the years to focus on businesses with enduring competitive advantages and strong long-term prospects. In the early years, I made mistakes by following a \"cigar butt\" approach to investing, which involved buying cheap stocks with the hope of selling them at a profit despite poor long-term prospects (1989). However, I realized that this strategy was not ideal and shifted to a more value-oriented approach that considers a business as a whole, emphasizing factors such as understanding the business, favorable long-term prospects, honest management, and an attractive price (1992).\n",
      "\n",
      "I have learned to stick with businesses and industries that are unlikely to experience major changes, seeking operations that are expected to possess enormous competitive strength in the future (1996). By focusing on predictability and certainty in both businesses and marketable securities, such as Coca-Cola, I aim to invest in companies with stable fundamentals and enduring consumer appeal (1996).\n",
      "\n",
      "My investment strategy also involves repeating successful investments and adding to existing positions in businesses I know and like, as evidenced by my history with American Express and Coca-Cola (1994). I prioritize long-term familiarity and understanding of a company's products and operations in evaluating investment opportunities (1994, 1997).\n",
      "\n",
      "Overall, my evolution as an investor has led me to prioritize investing in businesses with strong competitive advantages, enduring prospects, and predictable performance, while avoiding speculation and focusing on long-term value (2016). This approach has proven successful over the years and guides my investment decisions (2016).\n",
      "\n",
      "As an AI, this analysis is based on the provided document chunks and should not be taken as investment advice. Each part of the answer is supported by quotes from the corresponding years to demonstrate the evolution of Warren Buffett's investment philosophy.\n",
      "\n",
      "Base Response: My investment philosophy has evolved over the years as I have gained more experience and knowledge in the financial markets. In the beginning, I was more focused on short-term gains and trying to time the market. However, as I learned more about the importance of diversification and long-term investing, my philosophy shifted towards a more strategic and patient approach.\n",
      "\n",
      "I now place a greater emphasis on fundamental analysis, looking at the underlying value of a security or asset before making an investment decision. I also prioritize risk management and have become more disciplined in sticking to my investment plan, even when the market is volatile.\n",
      "\n",
      "Overall, my investment philosophy has evolved to focus on building a well-diversified portfolio with a long-term perspective, while also remaining flexible and adaptable to changing market conditions.\n"
     ]
    }
   ],
   "source": [
    "query = \"How has your investment philosophy evolved over the years?\"\n",
    "response, base_response = query_berkshire_bot(query)\n",
    "print(\"\\nQuery:\", query)\n",
    "print(\"\\nLLM Response:\", response)\n",
    "print(\"\\nBase Response:\", base_response)"
   ]
  },
  {
   "cell_type": "markdown",
   "metadata": {},
   "source": [
    "### How does Warren Buffett explain his decision to invest in companies like Coca-Cola and Apple?"
   ]
  },
  {
   "cell_type": "code",
   "execution_count": 28,
   "metadata": {},
   "outputs": [
    {
     "name": "stdout",
     "output_type": "stream",
     "text": [
      "\n",
      "Query: Can you explain your decision to invest in companies like Coca-Cola and Apple?\n",
      "\n",
      "LLM Response: Disclaimer: The following response is based on Warren Buffett's investment strategies as reflected in the provided document chunks, and it is not investment advice. As an AI, I am not Warren Buffett.\n",
      "\n",
      "Warren Buffett's decision to invest in companies like Coca-Cola and Apple aligns with his long-term investment philosophy of seeking businesses with strong competitive advantages and enduring economics. In the case of Coca-Cola, Buffett's initial exposure to the company dates back to his childhood when he engaged in a small-scale distribution business with Coca-Cola products (1994). This early familiarity with the company's products and the success of its core business model likely contributed to his decision to invest in Coca-Cola later on. Similarly, Buffett's investment in American Express and other companies has been driven by his history with these firms and the long-term familiarity he has developed with their operations and products (1994).\n",
      "\n",
      "Buffett's focus on investing in companies with understandable, enduring, and mouth-watering economics is evident in his preference for businesses like Coca-Cola and Gillette, which have strong brand names, high-quality products, and robust distribution systems (1991, 1993). He emphasizes the importance of selecting businesses with competitive advantages that can withstand changes in the industry landscape over time. Buffett's approach to investing in these \"Inevitables\" and \"Highly Probables\" reflects his belief in the power of owning businesses with strong long-term growth prospects, even if it means paying a premium for quality companies (1996).\n",
      "\n",
      "Moreover, Buffett's investment strategy emphasizes the importance of maintaining focus and avoiding distractions that could lead to value stagnation or loss of competitive advantage in exceptional businesses (1996). By sticking to companies with proven track records, dominant market positions, and strong management teams, Buffett seeks to minimize the risks associated with market fluctuations or internal disruptions.\n",
      "\n",
      "Overall, Warren Buffett's decision to invest in companies like Coca-Cola and Apple is grounded in his approach of seeking businesses with enduring competitive advantages, strong brands, and exceptional management that can generate sustained returns over the long term. His focus on long-term value creation, familiarity with the companies, and commitment to high-quality businesses align with his investment philosophy as reflected in the provided document chunks. (Investopedia)\n",
      "\n",
      "Base Response: Sure! Investing in companies like Coca-Cola and Apple can be a strategic decision based on a variety of factors. \n",
      "\n",
      "Coca-Cola is a well-established and globally recognized brand with a strong track record of consistent revenue and profit growth. The company has a diverse product portfolio, strong distribution network, and a loyal customer base. Investing in Coca-Cola provides exposure to the beverage industry, which is relatively stable and resilient to economic downturns. Additionally, Coca-Cola has a history of paying dividends to its shareholders, making it an attractive option for those looking for steady income.\n",
      "\n",
      "On the other hand, Apple is a leading technology company known for its innovative products, strong brand loyalty, and growing ecosystem of services. Apple has a history of generating significant profits through its popular products such as the iPhone, iPad, and Mac computers. Investing in Apple provides exposure to the fast-growing tech industry and potential for future growth as the company continues to expand its product and service offerings.\n",
      "\n",
      "Overall, both Coca-Cola and Apple are well-established companies with strong competitive advantages and a proven track record of success, making them attractive options for long-term investors looking for stable and profitable investment opportunities.\n"
     ]
    }
   ],
   "source": [
    "query = \"Can you explain your decision to invest in companies like Coca-Cola and Apple?\"\n",
    "response, base_response = query_berkshire_bot(query)\n",
    "print(\"\\nQuery:\", query)\n",
    "print(\"\\nLLM Response:\", response)\n",
    "print(\"\\nBase Response:\", base_response)"
   ]
  },
  {
   "cell_type": "markdown",
   "metadata": {},
   "source": [
    "### What insights about Berkshire Hathaway’s long-term strategy can be drawn from comparing Warren Buffett’s 2004 and 2014 letters?"
   ]
  },
  {
   "cell_type": "code",
   "execution_count": 29,
   "metadata": {},
   "outputs": [
    {
     "name": "stdout",
     "output_type": "stream",
     "text": [
      "\n",
      "Query: What insights about your long-term strategy can be drawn from comparing the 2004 and 2014 letters?\n",
      "\n",
      "LLM Response: As Warren Buffett, my long-term investment strategy remains focused on acquiring businesses with favorable long-term prospects, operated by honest and competent people, at an attractive price. This approach has been consistent over the years, as outlined in the 1992 annual letter where I stated, \"We want the business to be one that we can understand; with favorable long-term prospects; operated by honest and competent people; and available at an attractive price\" (1992). \n",
      "\n",
      "Furthermore, my investment philosophy emphasizes the importance of generating gains in per-share intrinsic value that outperform the S&P index over the long term. As mentioned in the 2004 annual letter, \"Unless we achieve gains in per-share intrinsic value in the future that outdo the S&P, Charlie and I will be adding nothing to what you can accomplish on your own\" (2004). This highlights the central focus on delivering value to shareholders through superior performance relative to the broader market.\n",
      "\n",
      "Additionally, I prioritize making major acquisitions to fuel growth and add new streams of earnings to Berkshire Hathaway. As mentioned in the 2005 annual letter, \"Our current businesses, in aggregate, should deliver modest growth in operating earnings. But they will not in themselves produce truly satisfactory gains. We will need major acquisitions to get that job done\" (2005). This strategic approach underscores the importance of strategic acquisitions in driving sustainable growth and adding value for shareholders.\n",
      "\n",
      "In summary, my long-term strategy as an investor involves seeking out businesses with strong fundamentals, long-term prospects, and competent management, all while focusing on outperforming the market through gains in intrinsic value and strategic acquisitions. This approach has been a consistent theme throughout the years, demonstrating a commitment to value investing and long-term wealth creation for shareholders.\n",
      "\n",
      "Disclaimer: I am an AI assistant and not Warren Buffett. This information should not be taken as investment advice. Please consult with a financial advisor before making any investment decisions.\n",
      "\n",
      "Base Response: 1. Continuity and evolution: By comparing the 2004 and 2014 letters, it is possible to identify both continuity and evolution in your long-term strategy. Some key aspects of the strategy might remain consistent over the years, while others might have evolved in response to changing circumstances or new opportunities.\n",
      "\n",
      "2. Consistency in vision and goals: A comparison of the two letters can help highlight the consistency in your overall vision and goals for the organization. This can demonstrate your commitment to a long-term strategy that is aligned with your core values and objectives.\n",
      "\n",
      "3. Adaptation to market changes: The comparison can also reveal how your long-term strategy has been adapted to respond to changes in the market or industry landscape. This might include adjustments in tactics, investments, or business models to stay competitive and capture new growth opportunities.\n",
      "\n",
      "4. Focus on innovation and growth: Insights from the comparison can show your focus on innovation and growth as key drivers of your long-term strategy. This might include investments in research and development, expansion into new markets, or strategic partnerships to drive business growth over the long term.\n",
      "\n",
      "5. Emphasis on sustainability and resilience: By comparing the two letters, it may be possible to see a greater emphasis on sustainability and resilience in your long-term strategy. This can include efforts to build a more resilient business model, reduce environmental impact, and contribute to social responsibility initiatives for long-term success.\n",
      "\n",
      "Overall, comparing the 2004 and 2014 letters can provide valuable insights into the evolution, consistency, adaptation, innovation, and sustainability of your long-term strategy, helping to inform future strategic decisions and ensure continued success for your organization.\n"
     ]
    }
   ],
   "source": [
    "query = \"What insights about your long-term strategy can be drawn from comparing the 2004 and 2014 letters?\"\n",
    "response, base_response = query_berkshire_bot(query)\n",
    "print(\"\\nQuery:\", query)\n",
    "print(\"\\nLLM Response:\", response)\n",
    "print(\"\\nBase Response:\", base_response)"
   ]
  },
  {
   "cell_type": "markdown",
   "metadata": {},
   "source": [
    "### If Warren Buffett were to make an investment in the tech industry today, how might his strategy differ from his approach in the early 2000s?"
   ]
  },
  {
   "cell_type": "code",
   "execution_count": 30,
   "metadata": {},
   "outputs": [
    {
     "name": "stdout",
     "output_type": "stream",
     "text": [
      "\n",
      "Query: If you were to make an investment in the tech industry today, how might your strategy differ from your approach in the early 2000s?\n",
      "\n",
      "LLM Response: As Warren Buffett, my investment strategy in the tech industry today would likely differ from my approach in the early 2000s. In the early 2000s, I mentioned that Berkshire Hathaway did not own stocks of tech companies due to a lack of insights into which participants in the tech field possess a durable competitive advantage (1999). My team and I focus on businesses and industries unlikely to experience major change, as we seek operations that are virtually certain to possess enormous competitive strength in the long term (1996). This strategy has been successful for us as we look for businesses with demonstrated consistent earning power, good returns on equity, and little to no debt, while understanding their operations deeply (1989, 1992). We prioritize businesses with favorable long-term prospects, operated by honest and competent people, available at an attractive price, and within our circle of competence (1992, 2013).\n",
      "\n",
      "Considering these points, my current approach to investing in the tech industry would involve seeking tech companies with durable competitive advantages, clear long-term prospects, and demonstrated consistent earnings. I would look for businesses with strong management teams, sustainable competitive strengths, and a clear understanding of their operations. I would prioritize investments in tech companies that align with our circle of competence and offer attractive pricing relative to their intrinsic value.\n",
      "\n",
      "It's important to note that my investing philosophy emphasizes the importance of staying within our circle of competence, understanding the businesses we invest in, and avoiding speculative bets based on short-term market trends (2013). By sticking to these principles, I aim to build per-share intrinsic value over the long term and avoid making investments based on uncertainty or speculation (2012).\n",
      "\n",
      "Please remember that I am not Warren Buffett, and this response should not be taken as investment advice. It is merely an analysis based on Warren Buffett's investment strategies as outlined in Berkshire Hathaway's annual letters.\n",
      "\n",
      "Base Response: My strategy for investing in the tech industry today would differ from my approach in the early 2000s in several key ways:\n",
      "\n",
      "1. Focus on established, profitable companies: In the early 2000s, the tech industry was experiencing a bubble, with many startups and companies with little to no revenue getting significant amounts of investment. Today, I would focus on investing in established, profitable companies with a track record of success.\n",
      "\n",
      "2. Diversification: In the early 2000s, I may have been more inclined to invest heavily in a few tech companies that were hyped up at the time. Today, I would prioritize diversification by investing in a range of tech companies across different sectors and industries.\n",
      "\n",
      "3. Less emphasis on growth at all costs: In the early 2000s, there was a focus on investing in companies that were growing rapidly, even if they were not profitable. Today, I would place more emphasis on investing in companies that have a clear path to profitability and sustainable growth.\n",
      "\n",
      "4. Consideration of regulatory and privacy concerns: The tech industry today is facing increased scrutiny and regulation, particularly around issues of privacy and data protection. I would consider these factors more carefully when making investment decisions.\n",
      "\n",
      "5. Greater emphasis on long-term trends: In the early 2000s, the tech industry was driven by short-term hype and speculation. Today, I would focus more on long-term trends and industry dynamics when making investment decisions.\n"
     ]
    }
   ],
   "source": [
    "query = \"If you were to make an investment in the tech industry today, how might your strategy differ from your approach in the early 2000s?\"\n",
    "response, base_response = query_berkshire_bot(query)\n",
    "print(\"\\nQuery:\", query)\n",
    "print(\"\\nLLM Response:\", response)\n",
    "print(\"\\nBase Response:\", base_response)"
   ]
  },
  {
   "cell_type": "markdown",
   "metadata": {},
   "source": [
    "### What are some key takeaways from your 2019 letter on international investments?"
   ]
  },
  {
   "cell_type": "code",
   "execution_count": 31,
   "metadata": {},
   "outputs": [
    {
     "name": "stdout",
     "output_type": "stream",
     "text": [
      "\n",
      "Query: What are some key takeaways from your 2019 letter on international investments?\n",
      "\n",
      "LLM Response: As Warren Buffett, one key takeaway from the 2019 letter on international investments is the focus on currency diversification and foreign exchange exposure. In 2006, it is mentioned that Berkshire made foreign exchange purchases to gain exposure to different currencies, taking advantage of interest-rate differentials between the U.S. and foreign countries (2006). This strategy aligns with our approach to seek currency-neutrality and utilize foreign exchange contracts as a partial offset to dollar-denominated positions (2003).\n",
      "\n",
      "Furthermore, the letter highlights the importance of owning good businesses over cash-equivalent assets to protect against currency devaluation. Buffett emphasizes that paper money can lose value due to fiscal folly, and that fixed-coupon bonds offer no protection against runaway currency (2024). This reinforces our strategy of deploying a substantial majority of capital in equities, especially American equities with international operations, rather than cash-equivalent assets (2024).\n",
      "\n",
      "Additionally, the document chunks discuss the need for patience and a long-term perspective in investing. Buffett and his partner, Charlie Munger, emphasize the importance of being a patient investor and not succumbing to short-term market fluctuations (2022). This resonates with our approach of holding onto investments for many decades and focusing on the long-term growth potential of businesses rather than short-term market movements.\n",
      "\n",
      "In summary, Warren Buffett's investment strategies related to international investments in the 2019 letter emphasize currency diversification, a focus on owning good businesses over cash-equivalents, and a long-term perspective in investing. By aligning with these principles, Berkshire Hathaway aims to navigate the complexities of global markets and generate sustainable returns for shareholders.\n",
      "\n",
      "Disclaimer: I am an AI assistant and not Warren Buffett. This information is for educational purposes only and should not be taken as investment advice.\n",
      "\n",
      "Base Response: Some key takeaways from the 2019 letter on international investments may include:\n",
      "\n",
      "1. Diversification is crucial: International investments can offer diversification benefits by adding exposure to different economies, currencies, and industries, reducing reliance on any single market or asset class.\n",
      "\n",
      "2. Currency risk: Investing internationally also introduces currency risk, as fluctuations in exchange rates can impact the value of investments. Hedging strategies can be used to mitigate this risk.\n",
      "\n",
      "3. Emerging markets offer growth opportunities: Emerging market economies have the potential for higher growth rates compared to developed economies, offering opportunities for investors to benefit from this growth.\n",
      "\n",
      "4. Regulatory and political risks: International investments may be subject to regulatory and political risks, such as changes in government policies or regulations that can impact the value of investments. It is important to carefully assess these risks before investing.\n",
      "\n",
      "5. Long-term perspective: The letter may emphasize the importance of taking a long-term perspective when investing internationally, as short-term market fluctuations can be more pronounced in international markets.\n",
      "\n",
      "6. Strategic allocation: A strategic allocation to international investments can help investors achieve their long-term financial goals by accessing a wider range of investment opportunities and reducing overall portfolio risk.\n"
     ]
    }
   ],
   "source": [
    "query = \"What are some key takeaways from your 2019 letter on international investments?\"\n",
    "response, base_response = query_berkshire_bot(query)\n",
    "print(\"\\nQuery:\", query)\n",
    "print(\"\\nLLM Response:\", response)\n",
    "print(\"\\nBase Response:\", base_response)"
   ]
  }
 ],
 "metadata": {
  "kernelspec": {
   "display_name": ".venv",
   "language": "python",
   "name": "python3"
  },
  "language_info": {
   "codemirror_mode": {
    "name": "ipython",
    "version": 3
   },
   "file_extension": ".py",
   "mimetype": "text/x-python",
   "name": "python",
   "nbconvert_exporter": "python",
   "pygments_lexer": "ipython3",
   "version": "3.10.9"
  }
 },
 "nbformat": 4,
 "nbformat_minor": 2
}
