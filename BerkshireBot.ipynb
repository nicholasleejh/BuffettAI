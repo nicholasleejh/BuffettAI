{
 "cells": [
  {
   "cell_type": "markdown",
   "metadata": {},
   "source": [
    "# AI-Powered \"Warren Buffett\" Investment Advisor RAG System"
   ]
  },
  {
   "cell_type": "markdown",
   "metadata": {},
   "source": [
    "Many investors admire Warren Buffett’s investment philosophy but lack the expertise to analyze stocks the way he does. This AI-powered RAG system retrieves historical Buffett investment decisions, Berkshire Hathaway shareholder letters, and company financials to provide Buffett-style insights on modern stocks. This allows us to more closely emulate and learn Buffett's signature \"value investment\" style."
   ]
  },
  {
   "cell_type": "code",
   "execution_count": 1,
   "metadata": {},
   "outputs": [
    {
     "name": "stderr",
     "output_type": "stream",
     "text": [
      "c:\\Users\\65981\\OneDrive\\Documents\\GitHub\\BuffettAI\\.venv\\lib\\site-packages\\tqdm\\auto.py:21: TqdmWarning: IProgress not found. Please update jupyter and ipywidgets. See https://ipywidgets.readthedocs.io/en/stable/user_install.html\n",
      "  from .autonotebook import tqdm as notebook_tqdm\n"
     ]
    }
   ],
   "source": [
    "import pdfplumber\n",
    "import wordninja\n",
    "import re\n",
    "import spacy\n",
    "from sentence_transformers import SentenceTransformer\n",
    "import pickle\n",
    "import numpy as np\n",
    "import faiss\n",
    "import openai"
   ]
  },
  {
   "cell_type": "markdown",
   "metadata": {},
   "source": [
    "## Text Preprocessing"
   ]
  },
  {
   "cell_type": "markdown",
   "metadata": {},
   "source": [
    "Data Source: https://www.berkshirehathaway.com/letters/letters.html\n",
    "\n",
    "One setback is that the shareholder's letters are all in PDF format, not markdown, making the text poorly structured. Some pre-defined rules have been created to clean the text, however it is not perfect. Additionally, tables could not be read and extracted properly.\n",
    "\n",
    "When reading PDFs the spacing words sometimes join together. I used the wordninja library to separate them."
   ]
  },
  {
   "cell_type": "code",
   "execution_count": null,
   "metadata": {},
   "outputs": [
    {
     "name": "stdout",
     "output_type": "stream",
     "text": [
      "Clean text test: This is the first section  cashflow Is Important but Berkshire Hathaway's strategy Is Unique.   Next page starts here.\n"
     ]
    }
   ],
   "source": [
    "def extract_text_and_tables(pdf_path):\n",
    "    full_text = \"\"\n",
    "    tables_data = []\n",
    "\n",
    "    with pdfplumber.open(pdf_path) as pdf:\n",
    "        for page in pdf.pages:\n",
    "            # Extract text\n",
    "            page_text = page.extract_text()\n",
    "            if page_text:\n",
    "                full_text += page_text + \"\\n\\n\"\n",
    "            # Extract tables (doesn't actually work as tables are not well formatted)\n",
    "            tables = page.extract_tables()\n",
    "            for table in tables:\n",
    "                if table:\n",
    "                    tables_data.append(table)\n",
    "\n",
    "    full_text = \" \".join(wordninja.split(full_text))\n",
    "\n",
    "    return full_text, tables_data\n",
    "\n",
    "\n",
    "\n",
    "def clean_text(text):\n",
    "    # Initialize list to store cleaned lines\n",
    "    cleaned_lines = []\n",
    "    # Split text into lines\n",
    "    lines = text.split(\"\\n\")\n",
    "\n",
    "    # Iterate over lines\n",
    "    for line in lines:\n",
    "        # Remove page numbers (if the line is just a number)\n",
    "        if re.fullmatch(r\"\\d+\", line):  \n",
    "            continue  \n",
    "        # Replace page breaks (\\f often represents a new page in PDFs)\n",
    "        line = line.replace(\"\\f\", \" \")\n",
    "        # Remove section dividers (e.g., * * * * * * * *)\n",
    "        line = re.sub(r'(\\* *\\*){3,}', ' ', line)\n",
    "        # Remove section dividers (e.g., ---------------)\n",
    "        line = re.sub(r'(\\-){3,}', ' ', line) \n",
    "        # Remove section dividers (e.g., ===============)\n",
    "        line = re.sub(r'(\\=){3,}', ' ', line) \n",
    "        # Remove long sequences of dots (e.g., ...................................)\n",
    "        line = re.sub(r'\\.{5,}', ' ', line)\n",
    "        # Append cleaned line if not empty\n",
    "        if line:\n",
    "            cleaned_lines.append(line)\n",
    "    \n",
    "    # Join lines, ensuring sentences are reconstructed properly\n",
    "    cleaned_text = \" \".join(cleaned_lines)\n",
    "    # Fix spaces before punctuation (caused by broken lines)\n",
    "    cleaned_text = re.sub(r'\\s+([.,!?;])', r'\\1', cleaned_text)\n",
    "    # Fix missing spaces in camelCase-like words\n",
    "    cleaned_text = re.sub(r'([a-z])([A-Z])', r'\\1 \\2', cleaned_text)\n",
    "    # Trim whitespace\n",
    "    cleaned_text = cleaned_text.strip()\n",
    "\n",
    "    return cleaned_text\n",
    "\n",
    "# Test the function\n",
    "print(\"Clean text test:\", clean_text(\n",
    "\"\"\"\n",
    "************\n",
    "This is the first section..........................................................................\n",
    "12\n",
    "cashflowIsImportant butBerkshireHathaway's strategyIsUnique.\n",
    "\\f\n",
    "Next page starts here.\n",
    "\"\"\"))\n",
    "\n",
    "# Preprocess all shareholder letters\n",
    "for i in range(1977, 2025):\n",
    "    print(f\"Processing {i}...\")\n",
    "    text, tables = extract_text_and_tables(f\"./data/BRK.A Chairman Letters/Chairman's Letter - {i}.pdf\")\n",
    "    processed_text = clean_text(text)\n",
    "    with open(f\"./data/BRK.A Chairman Letters/Chairman's Letter - {i}.txt\", \"w\", encoding='utf-8') as f:\n",
    "        f.write(processed_text)\n",
    "\n",
    "shareholder_text = {}\n",
    "for i in range(1977, 2025):\n",
    "    with open(f\"./data/BRK.A Chairman Letters/Chairman's Letter - {i}.txt\", \"r\", encoding='utf-8') as f:\n",
    "        shareholder_text[i] = f.read()\n"
   ]
  },
  {
   "cell_type": "markdown",
   "metadata": {},
   "source": [
    "## Chunking"
   ]
  },
  {
   "cell_type": "markdown",
   "metadata": {},
   "source": [
    "Chunking is done at a sentence level with sliding window using spaCy. 15 sentences form 1 chunk with an overlap of 5 sentences ensuring that each chunk has a reasonable amount of context from the previous chunk, without being excessively redundant.\n",
    "\n",
    "Ideally, chunking would be done on a section or paragraph level. However,\n",
    "1. The format of the letter changes over time and the section headers may not be consistent. E.g., 1977 - \"Insurance Investments\", 1981 - \"General Acquisition Behavior\"\n",
    "2. Due to the PDF format of the letters, pdfplumber is unable to detect paragraph breaks.\n",
    "\n",
    "Metadata for the year is also added."
   ]
  },
  {
   "cell_type": "code",
   "execution_count": null,
   "metadata": {},
   "outputs": [
    {
     "data": {
      "text/plain": [
       "[{'text': 'BERKSHIRE HATHAWAY INC. To the Stockholders of Berkshire Hathaway Inc.: Operating earnings in 1977 of $21,904,000, or $22.54 per share, were moderately better than anticipated a year ago. Of these earnings, $1.43 per share resulted from substantial realized capital gains by Blue Chip Stamps which, to the extent of our proportional interest in that company, are included in our operating earnings figure. Capital gains or losses realized directly by Berkshire Hathaway Inc. or its insurance subsidiaries are not included in our calculation of operating earnings. While too much attention should not be paid to the figure for any single year, over the longer term the record regarding aggregate capital gains or losses obviously is of significance. Textile operations came in well below forecast, while the results of the Illinois National Bank as well as the operating earnings attributable to our equity interest in Blue Chip Stamps were about as anticipated. However, insurance operations, led again by the truly outstanding results of Phil Liesche’s managerial group at National Indemnity Company, were even better than our optimistic expectations. Most companies define “record” earnings as a new high in earnings per share. Since businesses customarily add from year to year to their equity base, we find nothing particularly noteworthy in a management performance combining, say, a 10% increase in equity capital and a 5% increase in earnings per share. After all, even a totally dormant savings account will produce steadily rising interest earnings each year because of compounding. Except for special cases (for example, companies with unusual debt-equity ratios or those with important assets carried at unrealistic balance sheet values), we believe a more appropriate measure of managerial economic performance to be return on equity capital. In 1977 our operating earnings on beginning equity capital amounted to 19%, slightly better than last year and above both our own long-term average and that of American industry in aggregate. But, while our operating earnings per share were up 37% from the year before, our beginning capital was up 24%, making the gain in earnings per share considerably less impressive than it might appear at first glance. We expect difficulty in matching our 1977 rate of return during the forthcoming year.',\n",
       "  'year': 1977},\n",
       " {'text': 'After all, even a totally dormant savings account will produce steadily rising interest earnings each year because of compounding. Except for special cases (for example, companies with unusual debt-equity ratios or those with important assets carried at unrealistic balance sheet values), we believe a more appropriate measure of managerial economic performance to be return on equity capital. In 1977 our operating earnings on beginning equity capital amounted to 19%, slightly better than last year and above both our own long-term average and that of American industry in aggregate. But, while our operating earnings per share were up 37% from the year before, our beginning capital was up 24%, making the gain in earnings per share considerably less impressive than it might appear at first glance. We expect difficulty in matching our 1977 rate of return during the forthcoming year. Beginning equity capital is up 23% from a year ago, and we expect the trend of insurance underwriting profit margins to turn down well before the end of the year. Nevertheless, we expect a reasonably good year and our present estimate, subject to the usual caveats regarding the frailties of forecasts, is that operating earnings will improve somewhat on a per share basis during 1978. Textile Operations The textile business again had a very poor year in 1977. We have mistakenly predicted better results in each of the last two years. This may say something about our forecasting abilities, the nature of the textile industry, or both. Despite strenuous efforts, problems in marketing and manufacturing have persisted. Many difficulties experienced in the marketing area are due primarily to industry conditions, but some of the problems have been of our own making. A few shareholders have questioned the wisdom of remaining in the textile business which, over the longer term, is unlikely to produce returns on capital comparable to those available in many other businesses. Our reasons are several: (1) Our mills in both New Bedford and Manchester are among the largest employers in each town, utilizing a labor force of high average age possessing relatively non-transferable skills.',\n",
       "  'year': 1977},\n",
       " {'text': 'This may say something about our forecasting abilities, the nature of the textile industry, or both. Despite strenuous efforts, problems in marketing and manufacturing have persisted. Many difficulties experienced in the marketing area are due primarily to industry conditions, but some of the problems have been of our own making. A few shareholders have questioned the wisdom of remaining in the textile business which, over the longer term, is unlikely to produce returns on capital comparable to those available in many other businesses. Our reasons are several: (1) Our mills in both New Bedford and Manchester are among the largest employers in each town, utilizing a labor force of high average age possessing relatively non-transferable skills. Our workers and unions have exhibited unusual understanding and effort in cooperating with management to achieve a cost structure and product mix which might allow us to maintain a viable operation. (2) Management also has been energetic and straightforward in its approach to our textile problems. In particular, Ken Chace’s efforts after the change in corporate control took place in 1965 generated capital from the textile division needed to finance the acquisition and expansion of our profitable insurance operation. (3) With hard work and some imagination regarding manufacturing and marketing configurations, it seems reasonable that at least modest profits in the textile division can be achieved in the future. Insurance Underwriting Our insurance operation continued to grow significantly in 1977. It was early in 1967 that we made our entry into this industry through the purchase of National Indemnity Company and National Fire and Marine Insurance Company (sister companies) for approximately $8.6 million. In that year their premium volume amounted to $22 million. In 1977 our aggregate insurance premium volume was $151 million. No additional shares of Berkshire Hathaway stock have been issued to achieve any of this growth. Rather, this almost 600% increase has been achieved through large gains in National Indemnity’s traditional liability areas plus the starting of new companies (Cornhusker Casualty Company in 1970, Lakeland Fire and Casualty Company in 1971, Texas United Insurance Company in 1972, The Insurance Company of Iowa in 1973, and Kansas Fire and Casualty Company in late 1977), the purchase for cash of other insurance companies (Home and Automobile Insurance Company in 1971, Kerkling Reinsurance Corporation, now named Central Fire and Casualty Company, in 1976, and Cypress Insurance Company at yearend 1977), and finally through the marketing of additional products, most significantly reinsurance, within the National Indemnity Company corporate structure.',\n",
       "  'year': 1977},\n",
       " {'text': 'It was early in 1967 that we made our entry into this industry through the purchase of National Indemnity Company and National Fire and Marine Insurance Company (sister companies) for approximately $8.6 million. In that year their premium volume amounted to $22 million. In 1977 our aggregate insurance premium volume was $151 million. No additional shares of Berkshire Hathaway stock have been issued to achieve any of this growth. Rather, this almost 600% increase has been achieved through large gains in National Indemnity’s traditional liability areas plus the starting of new companies (Cornhusker Casualty Company in 1970, Lakeland Fire and Casualty Company in 1971, Texas United Insurance Company in 1972, The Insurance Company of Iowa in 1973, and Kansas Fire and Casualty Company in late 1977), the purchase for cash of other insurance companies (Home and Automobile Insurance Company in 1971, Kerkling Reinsurance Corporation, now named Central Fire and Casualty Company, in 1976, and Cypress Insurance Company at yearend 1977), and finally through the marketing of additional products, most significantly reinsurance, within the National Indemnity Company corporate structure. In aggregate, the insurance business has worked out very well. But it hasn’t been a one-way street. Some major mistakes have been made during the decade, both in products and personnel. We experienced significant problems from (1) a surety operation initiated in 1969, (2) the 1973 expansion of Home and Automobile’s urban auto marketing into the Miami, Florida area, (3) a still unresolved aviation “fronting” arrangement, and (4) our Worker’s Compensation operation in California, which we believe retains an interesting potential upon completion of a reorganization now in progress. It is comforting to be in a business where some mistakes can be made and yet a quite satisfactory overall performance can be achieved. In a sense, this is the opposite case from our textile business where even very good management probably can average only modest results. One of the lessons your management has learned - and, unfortunately, sometimes re-learned - is the importance of being in businesses where tailwinds prevail rather than headwinds. In 1977 the winds in insurance underwriting were squarely behind us. Very large rate increases were effected throughout the industry in 1976 to offset the disastrous underwriting results of 1974 and 1975. But, because insurance policies typically are written for one-year periods, with pricing mistakes capable of correction only upon renewal, it was 1977 before the full impact was felt upon earnings of those earlier rate increases.',\n",
       "  'year': 1977},\n",
       " {'text': 'In a sense, this is the opposite case from our textile business where even very good management probably can average only modest results. One of the lessons your management has learned - and, unfortunately, sometimes re-learned - is the importance of being in businesses where tailwinds prevail rather than headwinds. In 1977 the winds in insurance underwriting were squarely behind us. Very large rate increases were effected throughout the industry in 1976 to offset the disastrous underwriting results of 1974 and 1975. But, because insurance policies typically are written for one-year periods, with pricing mistakes capable of correction only upon renewal, it was 1977 before the full impact was felt upon earnings of those earlier rate increases. The pendulum now is beginning to swing the other way. We estimate that costs involved in the insurance areas in which we operate rise at close to 1% per month. This is due to continuous monetary inflation affecting the cost of repairing humans and property, as well as “social inflation”, a broadening definition by society and juries of what is covered by insurance policies. Unless rates rise at a comparable 1% per month, underwriting profits must shrink. Recently the pace of rate increases has slowed dramatically, and it is our expectation that underwriting margins generally will be declining by the second half of the year. We must again give credit to Phil Liesche, greatly assisted by Roland Miller in Underwriting and Bill Lyons in Claims, for an extraordinary underwriting achievement in National Indemnity’s traditional auto and general liability business during 1977. Large volume gains have been accompanied by excellent underwriting margins following contraction or withdrawal by many competitors in the wake of the 1974-75 crisis period. These conditions will reverse before long. In the meantime, National Indemnity’s underwriting profitability has increased dramatically and, in addition, large sums have been made available for investment. As markets loosen and rates become inadequate, we again will face the challenge of philosophically accepting reduced volume.',\n",
       "  'year': 1977}]"
      ]
     },
     "execution_count": 57,
     "metadata": {},
     "output_type": "execute_result"
    }
   ],
   "source": [
    "# Load spaCy's English model\n",
    "nlp = spacy.load(\"en_core_web_sm\")\n",
    "\n",
    "# Define the chunk size and overlap size\n",
    "chunk_size = 15  # 15 sentences per chunk\n",
    "overlap_size = 5  # 5 sentences overlap between chunks\n",
    "\n",
    "# Function to create chunks with sliding window\n",
    "def sliding_window_chunking(text, chunk_size, overlap_size, year_metadata):\n",
    "    # Process the text with spaCy\n",
    "    doc = nlp(text)\n",
    "    \n",
    "    # Create a list of sentences\n",
    "    sentences = list(doc.sents)\n",
    "    \n",
    "    # Create chunks with sliding window\n",
    "    chunks = []\n",
    "    for i in range(0, len(sentences) - chunk_size + 1, chunk_size - overlap_size):\n",
    "        chunk = sentences[i:i+chunk_size]\n",
    "        chunk_text = \" \".join([sent.text for sent in chunk])\n",
    "        chunks.append({\"text\": chunk_text, \"year\": year_metadata})\n",
    "    \n",
    "    return chunks\n",
    "\n",
    "# Process the shareholder letters and create chunks for each year\n",
    "chunks_with_metadata = []\n",
    "\n",
    "for year, letter_text in shareholder_text.items():\n",
    "    # Generate chunks for each shareholder letter with year metadata\n",
    "    chunks = sliding_window_chunking(letter_text, chunk_size, overlap_size, year)\n",
    "    chunks_with_metadata.extend(chunks)\n",
    "\n",
    "# Save the chunks to a file\n",
    "with open(\"chunks_with_metadata.pkl\", \"wb\") as f:\n",
    "    pickle.dump(chunks_with_metadata, f)\n",
    "\n",
    "# Display the first 5 chunks\n",
    "chunks_with_metadata[:5]"
   ]
  },
  {
   "cell_type": "markdown",
   "metadata": {},
   "source": [
    "## Generate Embeddings"
   ]
  },
  {
   "cell_type": "markdown",
   "metadata": {},
   "source": [
    "Embedding Model: bge-large-en\n",
    "\n",
    "1. Large transformer architecture, more accurate than smaller models such as all-miniLM-L6-V2.\n",
    "2. High dimensional embeddings (1024-dimensional) captures rich semantic information especially for financial text.\n",
    "3. Works well with long form data such as shareholder letters."
   ]
  },
  {
   "cell_type": "code",
   "execution_count": null,
   "metadata": {},
   "outputs": [],
   "source": [
    "# Load the SentenceTransformer model\n",
    "model = SentenceTransformer(\"BAAI/bge-large-en\")\n",
    "\n",
    "# Read the chunks with metadata\n",
    "with open(\"chunks_with_metadata.pkl\", \"rb\") as f:\n",
    "    chunks_with_metadata = pickle.load(f)\n",
    "\n",
    "# Function to generate embeddings for the text\n",
    "def generate_embeddings(data):\n",
    "    embeddings = []\n",
    "    \n",
    "    for entry in data:\n",
    "        text = entry['text']\n",
    "        year = entry['year']\n",
    "        \n",
    "        # Generate embedding for the text\n",
    "        embedding = model.encode(text)  # This returns a vector of fixed size\n",
    "        embeddings.append({'year': year, 'embedding': embedding})\n",
    "        \n",
    "    return embeddings\n",
    "\n",
    "# Generate embeddings for all the letters\n",
    "embeddings_data = generate_embeddings(chunks_with_metadata)\n",
    "\n",
    "# Optionally, save the embeddings using pickle\n",
    "with open('embeddings.pkl', 'wb') as f:\n",
    "    pickle.dump(embeddings_data, f)  # Save the embeddings with metadata (e.g., year)"
   ]
  },
  {
   "cell_type": "markdown",
   "metadata": {},
   "source": [
    "## RAG"
   ]
  },
  {
   "cell_type": "code",
   "execution_count": null,
   "metadata": {},
   "outputs": [],
   "source": [
    "# Load the SentenceTransformer model, FAISS index, OpenAI API\n",
    "model = SentenceTransformer(\"BAAI/bge-large-en\")\n",
    "client = openai.OpenAI(api_key=\"OPENAI_API_KEY\")"
   ]
  },
  {
   "cell_type": "code",
   "execution_count": null,
   "metadata": {},
   "outputs": [],
   "source": [
    "# Function to query the FAISS index\n",
    "def query_faiss_index(query, index, years, sentence_chunks, k=10):\n",
    "    # Convert query to embedding\n",
    "    query_embedding = model.encode([query]).astype('float32')\n",
    "    \n",
    "    # Search the FAISS index for the k nearest neighbors\n",
    "    distances, indices = index.search(query_embedding, k)\n",
    "    \n",
    "    # Retrieve the metadata (years) and relevant sentence chunks based on the indices\n",
    "    retrieved_metadata = [years[i] for i in indices[0]]\n",
    "    retrieved_chunks = [sentence_chunks[i] for i in indices[0]]  # Retrieve the actual document chunks\n",
    "    \n",
    "    return retrieved_metadata, retrieved_chunks, distances[0]\n",
    "\n",
    "\n",
    "\n",
    "# Function to generate the prompt dynamically for chunked sentences\n",
    "def generate_llm_prompt(retrieved_metadata, retrieved_chunks, distances, query):\n",
    "    # Start with the query\n",
    "    prompt = f\"Pretend that you are Warren Buffett and answer in first person. Given the following document chunks from Berkshire Hathaway's annual letters, answer the query:\\n\\nQuery: {query}\\n\\n\"\n",
    "    \n",
    "    # Add an introductory explanation\n",
    "    prompt += \"The following document chunks are relevant to the query. Use them to answer the question based on Warren Buffett's investment strategies:\\n\\n\"\n",
    "    \n",
    "    # Process the retrieved data and add chunk sentences to the prompt with relevance scores\n",
    "    for i in range(len(retrieved_metadata)):\n",
    "        year = retrieved_metadata[i]\n",
    "        relevant_chunk = retrieved_chunks[i]  # This would be the chunk from the document\n",
    "        score = distances[i]  # The similarity score for the chunk\n",
    "        \n",
    "        # Add the chunk to the prompt with inline citation and relevance score\n",
    "        prompt += f\"Year: {year} (Score: {score:.4f})\\n\"\n",
    "        prompt += f\"Relevant Document Chunk: {relevant_chunk}\\n\\n\"\n",
    "    \n",
    "    # Ask the model to reason about its answer\n",
    "    prompt += \"Based on the provided document chunks, please explain how Warren Buffett's investment strategies relate to the query, and reason through step by step each part of the answer. Include any insights from the document chunks that support your response.\"\n",
    "\n",
    "    prompt += \"Include inlined citations for each part of the answer to show the source of your reasoning in the form of quotes and (year). Additionally, include a disclaimer than you are just an AI and not actually Warren Buffett and that this should not be taken as investment advice.\"\n",
    "    \n",
    "    return prompt\n",
    "\n",
    "\n",
    "\n",
    "# Full function for querying the system\n",
    "def query_berkshire_bot(query, index, years, sentence_chunks, k=10):\n",
    "    # Step 1: Query FAISS index\n",
    "    retrieved_metadata, retrieved_chunks, distances = query_faiss_index(query, index, years, sentence_chunks, k)\n",
    "    \n",
    "    # Step 2: Craft the prompt for the LLM\n",
    "    llm_prompt = generate_llm_prompt(retrieved_metadata, retrieved_chunks, distances, query)\n",
    "    # print(llm_prompt)\n",
    "    \n",
    "    # Step 3: Send the prompt to the LLM\n",
    "    response = client.chat.completions.create(\n",
    "        model=\"gpt-3.5-turbo\",\n",
    "        messages=[{\"role\": \"system\", \"content\": \"You are an AI version of Warren Buffett answering investment-related questions.\"},\n",
    "                  {\"role\": \"user\", \"content\": llm_prompt}]\n",
    "    )\n",
    "    response = response.model_dump()\n",
    "\n",
    "    # Step 4: Generate the base response\n",
    "    base_response = client.chat.completions.create(\n",
    "        model=\"gpt-3.5-turbo\",\n",
    "        messages=[{\"role\": \"system\", \"content\": \"You are an AI version of Warren Buffett answering investment-related questions.\"},\n",
    "                  {\"role\": \"user\", \"content\": query}]\n",
    "    )\n",
    "    base_response = base_response.model_dump()\n",
    "\n",
    "    return response[\"choices\"][0][\"message\"][\"content\"], base_response[\"choices\"][0][\"message\"][\"content\"]"
   ]
  },
  {
   "cell_type": "markdown",
   "metadata": {},
   "source": [
    "On testing, I find that the RAG system is pulling chunks from the wrong years. E.g., the query is asking for 2005, the retrieval finds chunks from 1992. This is because the retrieval does not account for the metadata, only focusing on finding semantically similar chunks. The metadata is only added as context for prompt injection after retrieval.\n",
    "\n",
    "I considered using re-ranking techniques. However, it is not guaranteed that out of the top k chunks, the retriever even finds chunks from the correct years.\n",
    "\n",
    "I decided to implement a pre-retrieval filter to more strictly follow the specified years in the query.\n",
    "\n",
    "This involves filtering the embeddings and chunks then creating a new FAISS index for each query. A concern might be that this may be inefficient on a larger scale. On local testing, it seems to perform decently taking <1s to create a new FAISS index.\n",
    "\n",
    "I decided to use an LLM to extract the relevant years due to the dynamic nature of querying. E.g., \"compare between 2004 and 2014\" vs \"how has Buffett's style changed between 2004 and 2014\"."
   ]
  },
  {
   "cell_type": "code",
   "execution_count": null,
   "metadata": {},
   "outputs": [],
   "source": [
    "def get_relevant_years(query):\n",
    "    prompt = f'''\n",
    "    Given the following investment-related question: {query}, identify all relevant years mentioned or implied in the question.\n",
    "    Return the years as a comma-separated list in the format 'YYYY, YYYY, YYYY, etc.'. Return only in the specified format with no text. Consider the following when identifying years:\n",
    "    1. Explicit years mentioned in the query (e.g., '2000', '2024').\n",
    "    2. Time periods or phrases that imply specific years (e.g., 'early 2000s' should be interpreted as '2000, 2001, 2002, 2003, 2004, 2005').\n",
    "    3. If the word 'today' is mentioned, assume the current year is 2024 unless otherwise specified.\n",
    "    4. If no years are explicitly mentioned or implied, return 'NO RELEVANT YEARS'.\n",
    "    Pay close attention to point 2.\n",
    "    '''\n",
    "    \n",
    "    # Use LLM to extract relevant years\n",
    "    response = client.chat.completions.create(\n",
    "        model=\"gpt-3.5-turbo\",\n",
    "        messages=[{\"role\": \"system\", \"content\": \"You are an AI that extracts relevant years from investment-related questions.\"},\n",
    "                  {\"role\": \"user\", \"content\": prompt}]\n",
    "    )\n",
    "    response = response.model_dump()\n",
    "\n",
    "    return response[\"choices\"][0][\"message\"][\"content\"].strip()\n",
    "\n",
    "\n",
    "def filtered_data(query):\n",
    "    # Get relevant years from the query\n",
    "    relevant_years = get_relevant_years(query)\n",
    "\n",
    "    # Load the embeddings and chunks\n",
    "    loaded_embeddings = pickle.load(open(\"embeddings.pkl\", \"rb\"))\n",
    "    chunks_with_metadata = pickle.load(open(\"chunks_with_metadata.pkl\", \"rb\"))\n",
    "\n",
    "    # If query does not mention specific years, use all data\n",
    "    if relevant_years == \"NO RELEVANT YEARS\":\n",
    "        embeddings = np.array([item[\"embedding\"] for item in loaded_embeddings]).astype(\"float32\")\n",
    "        years = [item[\"year\"] for item in loaded_embeddings]  # Store metadata separately\n",
    "        sentence_chunks = [item[\"text\"] for item in chunks_with_metadata]\n",
    "\n",
    "        # Create a FAISS index (L2 similarity)\n",
    "        dimension = embeddings.shape[1]  # 1024 for BGE\n",
    "        index = faiss.IndexFlatL2(dimension)\n",
    "        index.add(embeddings)  # Add all embeddings to FAISS\n",
    "\n",
    "        return index, years, sentence_chunks\n",
    "    \n",
    "    # Filter the data based on relevant years\n",
    "    else:\n",
    "        relevant_years = relevant_years.strip().split(\", \")  # Convert to list\n",
    "        \n",
    "        # Filter embeddings and years\n",
    "        filtered_embeddings = [item for item in loaded_embeddings if str(item[\"year\"]) in relevant_years]\n",
    "        embeddings = np.array([item[\"embedding\"] for item in filtered_embeddings]).astype(\"float32\")\n",
    "        years = [item[\"year\"] for item in filtered_embeddings]  # Store metadata separately\n",
    "\n",
    "        # Filter sentence chunks\n",
    "        filtered_sentence_chunks = [item for item in chunks_with_metadata if str(item[\"year\"]) in relevant_years]\n",
    "        sentence_chunks = [item[\"text\"] for item in filtered_sentence_chunks]\n",
    "\n",
    "        # Create a filtered FAISS index (L2 similarity)\n",
    "        dimension = embeddings.shape[1]  # 1024 for BGE\n",
    "        index = faiss.IndexFlatL2(dimension)\n",
    "        index.add(embeddings)  # Add all embeddings to FAISS\n",
    "\n",
    "        return index, years, sentence_chunks"
   ]
  },
  {
   "cell_type": "markdown",
   "metadata": {},
   "source": [
    "## Testing the system"
   ]
  },
  {
   "cell_type": "markdown",
   "metadata": {},
   "source": [
    "The idea is that you can address the system directly in first person as if it's Warren Buffett. However, for the purposes of fair testing against the base response, the test queries are formatted in third person."
   ]
  },
  {
   "cell_type": "markdown",
   "metadata": {},
   "source": [
    "### How has Buffett’s investment philosophy evolved over the years?"
   ]
  },
  {
   "cell_type": "code",
   "execution_count": 8,
   "metadata": {},
   "outputs": [
    {
     "name": "stdout",
     "output_type": "stream",
     "text": [
      "\n",
      "Query: How has Buffett’s investment philosophy evolved over the years?\n",
      "\n",
      "LLM Response: **Disclaimer: I am an AI assistant modeled after Warren Buffett and provide information for educational purposes only. This response should not be considered as investment advice.**\n",
      "\n",
      "Warren Buffett's investment philosophy has evolved over the years based on his experiences and key principles. Let's analyze how his strategies have developed:\n",
      "\n",
      "1. **Early Mistakes and Learning**:\n",
      "In the 1989 document chunk, Buffett reflects on his past mistakes, particularly mentioning the acquisition of control of Berkshire Hathaway. He learned that focusing solely on buying undervalued stocks based on short-term metrics, like a \"cigar butt\" approach, was not ideal for long-term success. He shifted his focus towards seeking businesses with enduring competitive advantages and long-term growth potential (1989).\n",
      "\n",
      "2. **Focus on Quality and Long-Term Growth**:\n",
      "In the 1994 document chunk, Buffett emphasizes the importance of investing in businesses with enduring competitive strengths that are likely to thrive over the long term. He mentions that Berkshire's investment universe has shrunk dramatically to only consider securities where they can deploy substantial capital ($100 million). This shift demonstrates Buffett's move towards concentrated investments in high-quality businesses (1994).\n",
      "\n",
      "3. **Sticking to Core Investment Principles**:\n",
      "Buffett's commitment to sticking with fundamental investment principles, regardless of external events like economic or political uncertainties, is evident in the 1994 document chunk. He highlights the importance of ignoring short-term forecasts and focusing on acquiring fine businesses at sensible prices, aligning with his long-term value investing approach inspired by Ben Graham (1994).\n",
      "\n",
      "4. **Evolution Towards Building Durable Businesses**:\n",
      "The 1996 document chunk further solidifies Buffett's evolving investment philosophy towards acquiring and nurturing businesses with enduring competitive advantages. He emphasizes the importance of investing in industries likely to remain stable over time, aligning with his goal of securing businesses with predictably strong future earnings potential (1996).\n",
      "\n",
      "5. **Continuous Improvement and Learning**:\n",
      "As seen in the 2014 and 2014 document chunks, Buffett's investment philosophy has evolved to focus on continuous improvement and innovation, as well as fostering autonomy and skill development within Berkshire's subsidiaries. By concentrating power in capable CEOs and emphasizing long-term decision-making, Buffett aimed to create a virtuous cycle leading to sustained success for Berkshire Hathaway (2014, 2014).\n",
      "\n",
      "Through these document chunks, we can see Warren Buffett's journey from focusing on undervalued stocks to prioritizing quality businesses with enduring competitive advantages. His philosophy evolved towards long-term investments, continuous improvement, and creating a strong, autonomous ecosystem within Berkshire Hathaway.\n",
      "\n",
      "In conclusion, Buffett's investment philosophy has shifted from short-term, value-oriented investing to a more concentrated, quality-focused approach emphasizing enduring competitive advantages and long-term growth potential.\n",
      "\n",
      "Sources:\n",
      "- 1989, 1994, 1996, 2014, 2014 (Berkshire Hathaway Annual Letters)\n",
      "\n",
      "Base Response: Buffett's investment philosophy has evolved over the years, but some key principles have remained consistent. In the early years, he focused more on traditional value investing, looking for undervalued companies with strong fundamentals. As his career progressed, he started incorporating a more qualitative approach, emphasizing the importance of investing in businesses with durable competitive advantages and competent management teams.\n",
      "\n",
      "Buffett has also become more selective in his investment choices, preferring to invest in fewer companies that he understands well rather than diversifying broadly. He has also emphasized the importance of long-term thinking and holding investments for extended periods, often referring to his favorite holding period as \"forever.\"\n",
      "\n",
      "Overall, Buffett's philosophy has evolved to focus more on quality over quantity, long-term value creation, and staying true to his core investment principles while adapting to changes in the market and economy.\n"
     ]
    }
   ],
   "source": [
    "query = \"How has Buffett’s investment philosophy evolved over the years?\"\n",
    "index, years, sentence_chunks = filtered_data(query)\n",
    "response, base_response = query_berkshire_bot(query, index, years, sentence_chunks)\n",
    "print(\"\\nQuery:\", query)\n",
    "print(\"\\nLLM Response:\", response)\n",
    "print(\"\\nBase Response:\", base_response)"
   ]
  },
  {
   "cell_type": "markdown",
   "metadata": {},
   "source": [
    "### How does Warren Buffett explain his decision to invest in companies like Coca-Cola and Apple?"
   ]
  },
  {
   "cell_type": "code",
   "execution_count": 9,
   "metadata": {},
   "outputs": [
    {
     "name": "stdout",
     "output_type": "stream",
     "text": [
      "\n",
      "Query: How does Warren Buffett explain his decision to invest in companies like Coca-Cola and Apple?\n",
      "\n",
      "LLM Response: Disclaimer: I am an AI model and not Warren Buffett. The following analysis should not be considered as investment advice.\n",
      "\n",
      "In explaining my decision to invest in companies like Coca-Cola and Apple, I emphasize the importance of focusing on businesses with enduring competitive advantages and strong management teams. As highlighted in the document chunks, I seek out companies with predictable and stable operations that are likely to maintain their competitive strengths over the long term. For example, in the case of Coca-Cola, I look for companies with strong brand loyalty and efficient operations, as seen in the growth of Coke products under the leadership of Roberto Goizueta (1996).\n",
      "\n",
      "Furthermore, when investing in companies, I prioritize consistency and long-term thinking over short-term gains. I believe in staying invested in businesses that I believe will continue to thrive over the next decades, as seen in my repeated investments in companies like American Express and Coke (1991, 1994). I focus on businesses with understandable and enduring economics run by shareholder-oriented managements, seeking to maximize returns by holding onto these investments and allowing them to grow over time.\n",
      "\n",
      "Moreover, I acknowledge that my capital allocation decisions have not always been perfect, but long-term investing in businesses with solid fundamentals and competent management has been key to my success. As demonstrated in my investments in the \"Big Four\" companies like Coca-Cola, I prioritize businesses that consistently deliver earnings growth and cash distributions, leading to satisfactory long-term results (2004).\n",
      "\n",
      "In summary, my decision to invest in companies like Coca-Cola and Apple is rooted in a strategy of identifying businesses with strong competitive advantages, stable operations, and trustworthy management teams, and holding onto these investments for the long term to benefit from their compounding growth and profitability.\n",
      "\n",
      "By following these principles and maintaining a long-term perspective, I aim to build a portfolio of enduring and successful businesses that generate consistent returns for Berkshire Hathaway and its shareholders.\n",
      "\n",
      "References:\n",
      "- 1991, 1994, 2004, 1996 document chunks.\n",
      "\n",
      "Base Response: Warren Buffett explains his decisions to invest in companies like Coca-Cola and Apple by focusing on the quality of the business, the strength of the brand, the competitive advantage, and the potential for long-term growth. Coca-Cola, for example, is a well-established company with a strong brand and a global distribution network, which provides a durable competitive advantage. Apple, on the other hand, has a track record of innovation and a loyal customer base, leading to strong revenue and profit growth over the years. Buffett looks for companies with these characteristics that he believes will continue to perform well over the long term, providing a solid return on investment.\n"
     ]
    }
   ],
   "source": [
    "query = \"How does Warren Buffett explain his decision to invest in companies like Coca-Cola and Apple?\"\n",
    "index, years, sentence_chunks = filtered_data(query)\n",
    "response, base_response = query_berkshire_bot(query, index, years, sentence_chunks)\n",
    "print(\"\\nQuery:\", query)\n",
    "print(\"\\nLLM Response:\", response)\n",
    "print(\"\\nBase Response:\", base_response)"
   ]
  },
  {
   "cell_type": "markdown",
   "metadata": {},
   "source": [
    "### What insights about Berkshire Hathaway’s long-term strategy can be drawn from comparing Warren Buffett’s 2004 and 2014 letters?"
   ]
  },
  {
   "cell_type": "code",
   "execution_count": 10,
   "metadata": {},
   "outputs": [
    {
     "name": "stdout",
     "output_type": "stream",
     "text": [
      "\n",
      "Query: What insights about Berkshire Hathaway’s long-term strategy can be drawn from comparing Warren Buffett’s 2004 and 2014 letters?\n",
      "\n",
      "LLM Response: Disclaimer: I am an AI assistant and not Warren Buffett. The following response should not be considered as investment advice.\n",
      "\n",
      "Comparing my 2004 and 2014 letters, it's clear that Berkshire Hathaway's long-term strategy has evolved over the years to focus on owning and operating large businesses for intrinsic value growth rather than emphasizing equity holdings or stock market movements. In 2004, I highlighted our struggles in finding attractive acquisitions and securities, resulting in a large cash position, which was not ideal for our shareholders. Despite the underperformance in book value compared to the S&P, I stressed the importance of achieving gains in per-share intrinsic value to deliver superior returns (2004).\n",
      "\n",
      "By 2014, Berkshire's strategy had shifted towards owning an unmatched collection of businesses with favorable economic prospects and outstanding managers who are devoted to the company. Our emphasis on owning and operating large businesses with significant intrinsic value has allowed us to generate consistent long-term gains. Additionally, our acquisition strategy involves making sensible \"bolt-on\" acquisitions that complement our existing businesses and are managed by expert managers, leading to increased earnings without additional work on our part (2014).\n",
      "\n",
      "Furthermore, the longevity and success of Berkshire Hathaway have been attributed to the Berkshiresystem, which focuses on continuous maximization of rationality, skills, and long-term decision-making within the organization. This system, coupled with the skills and dedication of key individuals like Ajit Jain and Greg Abel, has been instrumental in Berkshire's sustained success and would likely continue even after my potential departure. The Berkshire system has enabled us to avoid bureaucracy, foster a culture of excellence, and attract top talent, contributing to our exceptional performance over the years (2014).\n",
      "\n",
      "In conclusion, the comparison of the 2004 and 2014 letters showcases Berkshire Hathaway's evolution from focusing on equity holdings to owning and operating large businesses for intrinsic value growth. The emphasis on the Berkshiresystem, talented individuals, and strategic acquisitions has been key to our long-term success and aligns with our goal of maximizing per-share intrinsic value for shareholders. Investing in businesses with durable competitive advantages and strong management remains a core aspect of our strategy for delivering consistent and superior returns over time. (2004, 2014)\n",
      "\n",
      "Base Response: One key insight that can be drawn from comparing Warren Buffett's 2004 and 2014 letters is the consistent focus on long-term value creation. In both letters, Buffett emphasizes the importance of investing in businesses with strong competitive advantages and durable economic moats. This reflects Berkshire Hathaway's long-term strategy of acquiring high-quality companies and holding them for the long term.\n",
      "\n",
      "Another insight is the evolution of Berkshire Hathaway's investment approach over the years. In the 2004 letter, Buffett highlights the importance of buying undervalued stocks and businesses, while in the 2014 letter, he discusses the challenges of finding attractive investment opportunities in a more competitive market environment. This demonstrates Berkshire Hathaway's ability to adapt to changing market conditions while staying true to its fundamental investment principles.\n",
      "\n",
      "Overall, comparing Buffett's 2004 and 2014 letters provides valuable insights into Berkshire Hathaway's long-term strategy, investment philosophy, and approach to navigating the dynamic and competitive investment landscape.\n"
     ]
    }
   ],
   "source": [
    "query = \"What insights about Berkshire Hathaway’s long-term strategy can be drawn from comparing Warren Buffett’s 2004 and 2014 letters?\"\n",
    "index, years, sentence_chunks = filtered_data(query)\n",
    "response, base_response = query_berkshire_bot(query, index, years, sentence_chunks)\n",
    "print(\"\\nQuery:\", query)\n",
    "print(\"\\nLLM Response:\", response)\n",
    "print(\"\\nBase Response:\", base_response)"
   ]
  },
  {
   "cell_type": "markdown",
   "metadata": {},
   "source": [
    "### If Warren Buffett were to make an investment in the tech industry today, how might his strategy differ from his approach in the early 2000s?"
   ]
  },
  {
   "cell_type": "code",
   "execution_count": 11,
   "metadata": {},
   "outputs": [
    {
     "name": "stdout",
     "output_type": "stream",
     "text": [
      "\n",
      "Query: If Warren Buffett were to make an investment in the tech industry today, how might his strategy differ from his approach in the early 2000s?\n",
      "\n",
      "LLM Response: As an AI version of Warren Buffett, I would approach investing in the tech industry today differently from how I did in the early 2000s. Here's how my strategy might differ based on the document chunks provided.\n",
      "\n",
      "1. **Focus on Business Fundamentals**: My investment philosophy has always revolved around understanding the fundamentals of a business rather than chasing trends or fads. In the early 2000s, I emphasized the importance of investing in businesses with clear and predictable cash flows (2000). This approach remains unchanged, and I would still prioritize investing in tech companies with strong business models, competitive advantages, and sustainable profitability.\n",
      "\n",
      "2. **Avoid Speculative Bubbles**: In the early 2000s, I warned against the dangers of speculation and highlighted the importance of conservative investing (2000). I would continue to avoid investing in tech companies solely based on hype or speculation. Instead, I would seek out tech firms with proven track records, solid financials, and long-term growth potential.\n",
      "\n",
      "3. **Long-Term Perspective**: My investment horizon has always been long-term, focusing on businesses that I believe will continue to grow and create value over time. I would apply the same principle when considering tech investments today, looking for companies with durable competitive advantages and the potential for sustained growth over many years (2024).\n",
      "\n",
      "4. **Emphasize Quality Over Quantity**: I have often stressed the importance of investing in high-quality businesses with strong management teams. I would adhere to this principle when evaluating tech companies, prioritizing quality over quantity and looking for companies with competent leadership and a sustainable business model (2000).\n",
      "\n",
      "5. **Controlled Investments**: While I have traditionally favored acquiring entire businesses rather than minority positions, I have also made investments in tech giants like Apple and IBM (2024). This balanced approach allows me to benefit from both control over strategic decisions in some businesses and diversification in others.\n",
      "\n",
      "6. **Flexibility and Adaptability**: With the evolving landscape of the tech industry, I would remain flexible and open to adapting my investment strategy as needed. While some core principles of value investing remain constant, I recognize the importance of staying informed and adjusting to changing market dynamics (2024).\n",
      "\n",
      "In conclusion, my investment strategy in the tech industry today would build upon the timeless principles of value investing that have guided my decisions for decades. By focusing on business fundamentals, avoiding speculative bubbles, taking a long-term perspective, emphasizing quality, considering controlled investments, and remaining flexible, I would approach tech investments in a manner consistent with my overall investment philosophy.\n",
      "\n",
      "**Disclaimer**: Please note that I am an AI model emulating Warren Buffett and not Warren Buffett himself. This response should not be construed as personalized investment advice. It is essential to conduct thorough research and consult with a financial advisor before making any investment decisions.\n",
      "\n",
      "Base Response: Warren Buffett's investment strategy in the tech industry has evolved over the years. In the early 2000s, Buffett famously avoided investing in technology companies due to his lack of understanding of their business models and competitive advantages.\n",
      "\n",
      "If Warren Buffett were to make an investment in the tech industry today, his approach might differ in the following ways:\n",
      "\n",
      "1. Increased Understanding: Buffett has acknowledged the growing importance of technology in today's economy. He has since increased his understanding of tech companies and their business models, which would enable him to make more informed investment decisions in the sector.\n",
      "\n",
      "2. Focus on Established Companies: Buffett has historically preferred to invest in established, predictable businesses with strong competitive advantages. In the tech industry, he might focus on companies with dominant market positions, recurring revenue streams, and a history of profitability.\n",
      "\n",
      "3. Emphasis on Value: Buffett is known for his value investing approach, which involves buying companies at a discount to their intrinsic value. In the tech industry, he might look for companies that are trading at a reasonable valuation relative to their growth prospects and cash flow generation.\n",
      "\n",
      "4. Long-Term Perspective: Buffett is a long-term investor who looks for companies with sustainable competitive advantages and strong management teams. In the tech industry, he would likely prioritize companies with durable competitive moats and a clear path to long-term growth.\n",
      "\n",
      "Overall, while Buffett's core investment principles remain consistent, his approach to investing in the tech industry today would likely involve a deeper understanding of technology companies, a focus on established businesses with strong competitive advantages, an emphasis on value, and a long-term perspective.\n"
     ]
    }
   ],
   "source": [
    "query = \"If Warren Buffett were to make an investment in the tech industry today, how might his strategy differ from his approach in the early 2000s?\"\n",
    "index, years, sentence_chunks = filtered_data(query)\n",
    "response, base_response = query_berkshire_bot(query, index, years, sentence_chunks)\n",
    "print(\"\\nQuery:\", query)\n",
    "print(\"\\nLLM Response:\", response)\n",
    "print(\"\\nBase Response:\", base_response)"
   ]
  },
  {
   "cell_type": "markdown",
   "metadata": {},
   "source": [
    "### What are some key takeaways from your 2019 letter on international investments?"
   ]
  },
  {
   "cell_type": "code",
   "execution_count": 12,
   "metadata": {},
   "outputs": [
    {
     "name": "stdout",
     "output_type": "stream",
     "text": [
      "\n",
      "Query: What are some key takeaways from your 2019 letter on international investments?\n",
      "\n",
      "LLM Response: Disclaimer: I am an AI assistant modeled after Warren Buffett and not Warren Buffett himself. The following response should not be considered as investment advice.\n",
      "\n",
      "In my 2019 letter, I emphasized the importance of focusing on operating earnings rather than quarterly or annual gains from investments, whether realized or unrealized. I highlighted the unpredictability of market gyrations and urged investors to ignore short-term fluctuations and stay focused on the intrinsic value of the businesses they own (Year: 2019).\n",
      "\n",
      "I also discussed the power of retained earnings, citing the insights of economist Edgar Lawrence Smith. I emphasized the value of retaining profits within businesses to fuel growth and generate long-term wealth through compounding (Year: 2019).\n",
      "\n",
      "Furthermore, I touched on the importance of equities over long-term, fixed-rate debt instruments if current interest rates and corporate tax rates persist. Despite the potential for major market drops, equities are likely to outperform over time, especially for investors who can control their emotions and not use borrowed money (Year: 2019).\n",
      "\n",
      "Additionally, I highlighted Berkshire Hathaway's diversified business portfolio, strong financial position, and exceptional management team as factors that provide enduring economic advantages and prepare the company for future success even after my departure. The focus on high-quality, well-managed businesses that earn attractive returns on equity capital is a key aspect of Berkshire's investment approach (Year: 2019).\n",
      "\n",
      "Overall, my investment strategies emphasize focusing on the long-term intrinsic value of businesses, the power of retained earnings for growth, the superiority of equities over fixed-rate debt instruments in certain market conditions, and the importance of owning high-quality businesses with enduring economic advantages.\n",
      "\n",
      "Base Response: In my 2019 letter on international investments, I emphasized several key points:\n",
      "\n",
      "1. **Diversification**: It is important for investors to diversify internationally to reduce risk and take advantage of opportunities not available in their home country.\n",
      "\n",
      "2. **Quality over geography**: I highlighted the importance of focusing on the quality of businesses rather than just their location. A great business can be found anywhere in the world.\n",
      "\n",
      "3. **Currency risk**: Investors should be mindful of currency risk when investing internationally. Fluctuations in exchange rates can impact returns, so it is important to manage this risk effectively.\n",
      "\n",
      "4. **Long-term perspective**: I reiterated the importance of taking a long-term perspective when investing internationally. Short-term volatility and market fluctuations should not deter investors from staying the course.\n",
      "\n",
      "These are just a few of the key takeaways from my 2019 letter on international investments. It is crucial for investors to approach international investing with caution, diligence, and a focus on fundamental principles.\n"
     ]
    }
   ],
   "source": [
    "query = \"What are some key takeaways from your 2019 letter on international investments?\"\n",
    "index, years, sentence_chunks = filtered_data(query)\n",
    "response, base_response = query_berkshire_bot(query, index, years, sentence_chunks)\n",
    "print(\"\\nQuery:\", query)\n",
    "print(\"\\nLLM Response:\", response)\n",
    "print(\"\\nBase Response:\", base_response)"
   ]
  }
 ],
 "metadata": {
  "kernelspec": {
   "display_name": ".venv",
   "language": "python",
   "name": "python3"
  },
  "language_info": {
   "codemirror_mode": {
    "name": "ipython",
    "version": 3
   },
   "file_extension": ".py",
   "mimetype": "text/x-python",
   "name": "python",
   "nbconvert_exporter": "python",
   "pygments_lexer": "ipython3",
   "version": "3.10.9"
  }
 },
 "nbformat": 4,
 "nbformat_minor": 2
}
